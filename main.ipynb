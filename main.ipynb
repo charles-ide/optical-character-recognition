{
 "cells": [
  {
   "cell_type": "code",
   "execution_count": null,
   "metadata": {},
   "outputs": [],
   "source": [
    "'''\n",
    "(c) 2023 Charles Ide\n",
    "This is a project designed to explore optical character recognition with TensorFlow. This is the main file used to execute the program - all other functionality\n",
    "should be refactored away to modules during development.\n",
    "'''\n",
    "\n",
    "import tensorflow as tf\n",
    "from tensorflow.keras import layers, models\n",
    "from sklearn.model_selection import train_test_split\n",
    "\n",
    "# Load and preprocess the dataset\n",
    "(x_base, y_base), (x_test, y_test) = tf.keras.datasets.mnist.load_data()\n",
    "\n",
    "# Split training and validation data\n",
    "x_train, x_val, y_train, y_val = train_test_split(x_base, y_base, test_size=0.2, random_state=42)\n",
    "\n",
    "# Scale pixel values to the range [0, 1]\n",
    "x_train = x_train.astype('float32') / 255.0\n",
    "x_val = x_val.astype('float32') / 255.0\n",
    "x_test = x_test.astype('float32') / 255.0\n",
    "\n",
    "# Reshape the images to have a single channel (grayscale) and the desired input shape\n",
    "x_train = x_train.reshape((-1, 28, 28, 1))\n",
    "x_val = x_val.reshape((-1, 28, 28, 1))\n",
    "x_test = x_test.reshape((-1, 28, 28, 1))"
   ]
  },
  {
   "cell_type": "code",
   "execution_count": null,
   "metadata": {},
   "outputs": [],
   "source": [
    "# Set labels\n",
    "y_train = tf.keras.utils.to_categorical(y_train, num_classes=10)\n",
    "y_val = tf.keras.utils.to_categorical(y_val, num_classes=10)\n",
    "y_test = tf.keras.utils.to_categorical(y_test, num_classes=10)\n"
   ]
  },
  {
   "cell_type": "code",
   "execution_count": null,
   "metadata": {},
   "outputs": [],
   "source": [
    "print(x_train.shape)\n",
    "print(x_val.shape)\n",
    "print(x_test.shape)\n",
    "print(y_train.shape)\n",
    "print(y_val.shape)\n",
    "print(y_test.shape)"
   ]
  },
  {
   "cell_type": "code",
   "execution_count": null,
   "metadata": {},
   "outputs": [],
   "source": [
    "# Build our model\n",
    "model = tf.keras.Sequential([\n",
    "    tf.keras.layers.Conv2D(32, (3, 3), activation='relu', input_shape=(28, 28, 1)),\n",
    "    tf.keras.layers.MaxPooling2D((2, 2)),\n",
    "    tf.keras.layers.Flatten(),\n",
    "    tf.keras.layers.Dense(128, activation='relu'),\n",
    "    tf.keras.layers.Dense(10, activation='softmax')\n",
    "])\n",
    "\n",
    "# Compile the model\n",
    "model.compile(optimizer='adam', \n",
    "              loss='categorical_crossentropy',\n",
    "              metrics=['accuracy'])\n",
    "\n",
    "# Train the model\n",
    "model.fit(x_train, y_train, epochs=10, batch_size=64, validation_data=(x_val, y_val))\n"
   ]
  },
  {
   "cell_type": "code",
   "execution_count": 31,
   "metadata": {},
   "outputs": [
    {
     "name": "stdout",
     "output_type": "stream",
     "text": [
      "313/313 [==============================] - 0s 1ms/step - loss: 0.0430 - accuracy: 0.9866\n",
      "Test accuracy: 0.9865999817848206\n"
     ]
    }
   ],
   "source": [
    "# Evaluate the model\n",
    "test_loss, test_accuracy = model.evaluate(x_test, y_test)\n",
    "print(f'Test accuracy: {test_accuracy}')\n"
   ]
  },
  {
   "cell_type": "code",
   "execution_count": 40,
   "metadata": {},
   "outputs": [
    {
     "name": "stdout",
     "output_type": "stream",
     "text": [
      "1/1 [==============================] - 0s 13ms/step\n",
      "Predicted Digit: 6\n",
      "[[0.09293669 0.00579865 0.04019827 0.03549934 0.00910028 0.10255522\n",
      "  0.42194396 0.00869054 0.24806945 0.03520753]]\n"
     ]
    }
   ],
   "source": [
    "# Use the model to predict an actual picture\n",
    "\n",
    "from PIL import Image\n",
    "def preprocess_image(image_path):\n",
    "    image = Image.open(image_path)\n",
    "    image = image.resize((28, 28))  # Resize to 28x28 pixels\n",
    "    image = image.convert('L')  # Convert to grayscale\n",
    "    image = np.array(image) / 255.0  # Scale pixel values to [0, 1]\n",
    "    image = image.reshape((1, 28, 28, 1))  # Reshape to match the model's input shape\n",
    "    return image\n",
    "\n",
    "input_image = preprocess_image('/Users/charleside/Downloads/Test_Digit2.jpg')\n",
    "\n",
    "# Make predictions\n",
    "predictions = model.predict(input_image)\n",
    "\n",
    "# Get the predicted digit based on class probability\n",
    "predicted_digit = np.argmax(predictions)\n",
    "\n",
    "\n",
    "# Print the predicted digit\n",
    "print(f'Predicted Digit: {predicted_digit}')\n",
    "print(predictions)\n"
   ]
  },
  {
   "cell_type": "code",
   "execution_count": null,
   "metadata": {},
   "outputs": [],
   "source": []
  }
 ],
 "metadata": {
  "kernelspec": {
   "display_name": "ocr-project",
   "language": "python",
   "name": "python3"
  },
  "language_info": {
   "codemirror_mode": {
    "name": "ipython",
    "version": 3
   },
   "file_extension": ".py",
   "mimetype": "text/x-python",
   "name": "python",
   "nbconvert_exporter": "python",
   "pygments_lexer": "ipython3",
   "version": "3.11.5"
  },
  "orig_nbformat": 4
 },
 "nbformat": 4,
 "nbformat_minor": 2
}
